{
 "cells": [
  {
   "cell_type": "code",
   "execution_count": 6,
   "id": "5f5aa2cc",
   "metadata": {},
   "outputs": [
    {
     "name": "stdout",
     "output_type": "stream",
     "text": [
      "Radius of the circle: 10\n",
      "Area of the circle is:  314.2857142857143\n"
     ]
    }
   ],
   "source": [
    "#1\n",
    "r=eval(input(\"Radius of the circle: \"))\n",
    "pi=22/7\n",
    "print(\"Area of the circle is: \",pi*r*r)"
   ]
  },
  {
   "cell_type": "code",
   "execution_count": 4,
   "id": "10d77e42",
   "metadata": {},
   "outputs": [
    {
     "name": "stdout",
     "output_type": "stream",
     "text": [
      "Input first name: Kenneth \n",
      "Last name: Lay\n",
      "Lay Kenneth \n"
     ]
    }
   ],
   "source": [
    "#2\n",
    "FN = input(\"Input first name: \")\n",
    "LN = input(\"Last name: \")\n",
    "print(LN,FN,sep=\" \")"
   ]
  },
  {
   "cell_type": "code",
   "execution_count": 7,
   "id": "2a6db694",
   "metadata": {},
   "outputs": [
    {
     "name": "stdout",
     "output_type": "stream",
     "text": [
      "Red Black\n"
     ]
    }
   ],
   "source": [
    "#3\n",
    "color_list = [\"Red\",\"Green\",\"White\",\"Black\"]\n",
    "print(color_list[0],color_list[-1])"
   ]
  },
  {
   "cell_type": "code",
   "execution_count": 10,
   "id": "286cfa86",
   "metadata": {},
   "outputs": [
    {
     "name": "stdout",
     "output_type": "stream",
     "text": [
      "Input value for integer(n): 2\n",
      "n+nn+nnn =  246\n"
     ]
    }
   ],
   "source": [
    "#4\n",
    "n = int(input(\"Input value for integer(n): \"))\n",
    "nn = int(str(n)*2)\n",
    "nnn = int(str(n)*3)\n",
    "print(\"n+nn+nnn = \",n+nn+nnn)"
   ]
  },
  {
   "cell_type": "code",
   "execution_count": 12,
   "id": "af65cda8",
   "metadata": {},
   "outputs": [
    {
     "name": "stdout",
     "output_type": "stream",
     "text": [
      "volume of the sphere with radius r:  905.142857142857\n"
     ]
    }
   ],
   "source": [
    "#5\n",
    "r=6\n",
    "pi=22/7\n",
    "V=(4/3)*pi*r*r*r\n",
    "print (\"volume of the sphere with radius r: \",V)"
   ]
  },
  {
   "cell_type": "code",
   "execution_count": 15,
   "id": "bdb037f8",
   "metadata": {},
   "outputs": [
    {
     "name": "stdout",
     "output_type": "stream",
     "text": [
      "Give a number: 21\n",
      "absolute difference is 8.0\n"
     ]
    }
   ],
   "source": [
    "#6\n",
    "x = 17\n",
    "y = eval(input(\"Give a number: \"))\n",
    "if x>y:\n",
    "    z = (x-y)\n",
    "    print(\"absolute difference is\",z,sep=\" \")\n",
    "elif x<y:\n",
    "    z = (y-x)*2\n",
    "    print(\"absolute difference is\",z,sep=\" \")\n",
    "else:\n",
    "    print(\"no absolute difference\")\n",
    "    \n",
    "    "
   ]
  },
  {
   "cell_type": "code",
   "execution_count": 20,
   "id": "3663cae9",
   "metadata": {},
   "outputs": [
    {
     "name": "stdout",
     "output_type": "stream",
     "text": [
      "Input value 1: 3\n",
      "Input value 2: 2\n",
      "Input value 3: 1\n",
      "sume of the three number is:  6.0\n"
     ]
    }
   ],
   "source": [
    "#7\n",
    "a = eval(input(\"Input value 1: \"))\n",
    "b = eval(input(\"Input value 2: \"))\n",
    "c = eval(input(\"Input value 3: \"))\n",
    "if a==b and b==c and a==c:\n",
    "    print(\"sum of three number is: \",(a+b+c)*3)\n",
    "else:\n",
    "    print(\"sume of the three number is: \",a+b+c)"
   ]
  },
  {
   "cell_type": "code",
   "execution_count": 24,
   "id": "baf1b720",
   "metadata": {},
   "outputs": [
    {
     "name": "stdout",
     "output_type": "stream",
     "text": [
      "Input a value: 13\n",
      "13 is odd\n"
     ]
    }
   ],
   "source": [
    "#8\n",
    "x = int(input(\"Input a value: \"))\n",
    "if x%2==0:\n",
    "    print (x,\"is even\",sep=\" \")\n",
    "else:\n",
    "    print(x,\"is odd\",sep=\" \")"
   ]
  },
  {
   "cell_type": "code",
   "execution_count": null,
   "id": "96775546",
   "metadata": {},
   "outputs": [],
   "source": [
    "#9\n",
    "x = input(\"enter a letter: \")\n",
    "vowel_list = [\"a\",\"e\",\"i\",\"o\",\"u\",\"A\",\"E\",\"I\",\"O\",\"U\"]\n",
    "if x in vowel_list:\n",
    "    print(x,\"is a vowel\",sep=\" \")\n",
    "else:\n",
    "    print(x,\"is not a vowel\",sep=\" \")"
   ]
  },
  {
   "cell_type": "code",
   "execution_count": 7,
   "id": "f99019a5",
   "metadata": {},
   "outputs": [
    {
     "name": "stdout",
     "output_type": "stream",
     "text": [
      "Input a value: 9\n",
      "9 is in the group of values\n"
     ]
    }
   ],
   "source": [
    "#10\n",
    "group_of_values = [\"1\",\"2\",\"3\",\"4\",\"5\",\"6\",\"7\",\"8\",\"9\",\"10\",\"ok\"]\n",
    "x = input(\"Input a value: \")\n",
    "if x in group_of_values :\n",
    "    print(x,\"is in the group of values\",sep=\" \")\n",
    "else:\n",
    "    print(x,\"is not in the group of values\",sep=\" \")"
   ]
  },
  {
   "cell_type": "code",
   "execution_count": 68,
   "id": "a73f8c07",
   "metadata": {},
   "outputs": [
    {
     "name": "stdout",
     "output_type": "stream",
     "text": [
      "Value10\n",
      "Value10\n",
      "Value10\n",
      "Value102\n",
      "Value10\n"
     ]
    },
    {
     "data": {
      "text/plain": [
       "(array([4., 0., 0., 0., 0., 0., 0., 0., 0., 1.]),\n",
       " array([ 10. ,  19.2,  28.4,  37.6,  46.8,  56. ,  65.2,  74.4,  83.6,\n",
       "         92.8, 102. ]),\n",
       " <BarContainer object of 10 artists>)"
      ]
     },
     "execution_count": 68,
     "metadata": {},
     "output_type": "execute_result"
    },
    {
     "data": {
      "image/png": "[encoded data removed]",
      "text/plain": [
       "<Figure size 432x288 with 1 Axes>"
      ]
     },
     "metadata": {
      "needs_background": "light"
     },
     "output_type": "display_data"
    }
   ],
   "source": [
    "#11\n",
    "from matplotlib import pyplot\n",
    "\n",
    "hist_list=[]\n",
    "for i in range(5):\n",
    "    hist_list.append(int(input(\"Value\")))\n",
    "pyplot.hist(hist_list)"
   ]
  },
  {
   "cell_type": "code",
   "execution_count": 22,
   "id": "e3165673",
   "metadata": {},
   "outputs": [
    {
     "name": "stdout",
     "output_type": "stream",
     "text": [
      "[386, 462, 418, 344, 236, 566, 978, 328, 162, 758, 918, 412, 566, 826, 248, 866, 950, 626, 104, 58, 512, 24, 892, 894, 742, 958]\n"
     ]
    }
   ],
   "source": [
    "#12\n",
    "numbers = [386, 462, 47, 418, 907, 344, 236, 375, 823, 566, 597, 978, 328, 615, 953, 345, 399, 162, 758, 219, 918, 237, 412, 566, 826, 248, 866, 950, 626, 949, 687, 217, 815, 67, 104, 58, 512, 24, 892, 894, 767, 553, 81, 379, 843, 831, 445, 742, 717, 958,743, 527 ]\n",
    "numbers_even = []\n",
    "for i in numbers:\n",
    "    if i%2==0: \n",
    "        numbers_even.append(i)\n",
    "print (numbers_even)"
   ]
  },
  {
   "cell_type": "code",
   "execution_count": 23,
   "id": "6f34da1e",
   "metadata": {},
   "outputs": [
    {
     "name": "stdout",
     "output_type": "stream",
     "text": [
      "Input the height of the triangle: 20\n",
      "Input the base of the triangle: 2\n",
      "Area of the triangle is:  20.0\n"
     ]
    }
   ],
   "source": [
    "#13\n",
    "h = eval(input(\"Input the height of the triangle: \"))\n",
    "b = eval(input(\"Input the base of the triangle: \"))\n",
    "At = (h*b)/2\n",
    "print(\"Area of the triangle is: \",At)\n"
   ]
  },
  {
   "cell_type": "code",
   "execution_count": 83,
   "id": "3c61def2",
   "metadata": {},
   "outputs": [
    {
     "name": "stdout",
     "output_type": "stream",
     "text": [
      "Input a positive integer: 200\n",
      "input another positive integer: 300\n",
      "600\n"
     ]
    }
   ],
   "source": [
    "#14\n",
    "import math\n",
    "x = abs(int(input(\"Input a positive integer: \")))\n",
    "y = abs(int(input(\"input another positive integer: \")))\n",
    "a= math.lcm(x,y)\n",
    "print(a)"
   ]
  },
  {
   "cell_type": "code",
   "execution_count": 27,
   "id": "a73a8abe",
   "metadata": {},
   "outputs": [
    {
     "name": "stdout",
     "output_type": "stream",
     "text": [
      "Inpute Value 1: 10 \n",
      "Inpute Value 2: 10\n",
      "Inpute Value 3: 10\n",
      "sum = 0\n"
     ]
    }
   ],
   "source": [
    "#15\n",
    "a = eval(input(\"Inpute Value 1: \"))\n",
    "b = eval(input(\"Inpute Value 2: \"))\n",
    "c = eval(input(\"Inpute Value 3: \"))\n",
    "if a==b or b==c or a==c:\n",
    "    print(\"sum = 0\")\n",
    "else:\n",
    "    print(\"sum = \",a+b+c)"
   ]
  },
  {
   "cell_type": "code",
   "execution_count": 31,
   "id": "0e67b905",
   "metadata": {},
   "outputs": [
    {
     "name": "stdout",
     "output_type": "stream",
     "text": [
      "input value of x: 4\n",
      "input value of y: 3\n",
      "(4+3)^2 =  49\n"
     ]
    }
   ],
   "source": [
    "#16\n",
    "x = eval(input(\"input value of x: \"))\n",
    "y = eval(input(\"input value of y: \"))\n",
    "z = (x+y)*(x+y)\n",
    "print(f\"({x}+{y})^2 = \",z)"
   ]
  },
  {
   "cell_type": "code",
   "execution_count": 66,
   "id": "f53f2fd1",
   "metadata": {},
   "outputs": [
    {
     "name": "stdout",
     "output_type": "stream",
     "text": [
      "Input principal amount: 10000\n",
      "ZInput rate of interest: 3.5\n",
      "how long (in years): 7\n",
      "12722.79\n"
     ]
    }
   ],
   "source": [
    "#17\n",
    "spa = eval(input(\"Input principal amount: \"))\n",
    "roi = eval(input(\"ZInput rate of interest: \"))\n",
    "noy = eval(input(\"how long (in years): \"))\n",
    "fvoaspa = spa*((1+roi/100)**noy)\n",
    "print(f\"{fvoaspa:.2f}\")"
   ]
  },
  {
   "cell_type": "code",
   "execution_count": 77,
   "id": "55ddb569",
   "metadata": {},
   "outputs": [
    {
     "name": "stdout",
     "output_type": "stream",
     "text": [
      "enter the first coordinate: 10,20\n",
      "enter the first coordinate: 20,30\n",
      "The Distance between the two points:  14.142135623730951\n"
     ]
    }
   ],
   "source": [
    "#18\n",
    "import math\n",
    "x1,y1 = input(\"enter the first coordinate: \").split(\",\")\n",
    "x11=(eval(x1))\n",
    "y11=(eval(y1))\n",
    "x2,y2 = input(\"enter the first coordinate: \").split(\",\")\n",
    "x22=eval(x2)\n",
    "y22=eval(y2)\n",
    "d = math.sqrt((x22-x11)**2+(y22-y11)**2)\n",
    "print(\"The Distance between the two points: \",d)"
   ]
  },
  {
   "cell_type": "code",
   "execution_count": 88,
   "id": "9efd4f5c",
   "metadata": {},
   "outputs": [
    {
     "name": "stdout",
     "output_type": "stream",
     "text": [
      "enter valu of n:10\n",
      "firs sum of 10 is  55\n"
     ]
    }
   ],
   "source": [
    "#19\n",
    "n = int(input(\"enter valu of n:\"))\n",
    "answer = 0\n",
    "for i in range(n+1):\n",
    "    answer+=i\n",
    "print(f\"firs sum of {n} is \",answer)"
   ]
  },
  {
   "cell_type": "code",
   "execution_count": 51,
   "id": "41098258",
   "metadata": {},
   "outputs": [
    {
     "name": "stdout",
     "output_type": "stream",
     "text": [
      "Your height: \n",
      "Feet: 12\n",
      "Inches: 22\n",
      "Your height in cm is 421.64 cm\n"
     ]
    }
   ],
   "source": [
    "#20\n",
    "print(\"Your height: \")\n",
    "f = int(input(\"Feet: \"))\n",
    "h = int(input(\"Inches: \"))\n",
    "cm = f*30.48 + h*2.54\n",
    "print(\"Your height in cm is\",cm,\"cm\",sep=\" \")"
   ]
  },
  {
   "cell_type": "code",
   "execution_count": 57,
   "id": "695fd858",
   "metadata": {},
   "outputs": [
    {
     "name": "stdout",
     "output_type": "stream",
     "text": [
      "Input the height of the right angled triangle(in cm): 10\n",
      "Input the base of the right angled triangle(in cm): 20\n",
      "the hypotenuse of the right angled triangle: 22.36 cm\n"
     ]
    }
   ],
   "source": [
    "#21\n",
    "import math\n",
    "\n",
    "h = eval(input(\"Input the height of the right angled triangle(in cm): \"))\n",
    "b = eval(input(\"Input the base of the right angled triangle(in cm): \"))\n",
    "hyp = math.sqrt(h**2 + b**2)\n",
    "print(\"the hypotenuse of the right angled triangle:\",round(hyp,2),\"cm\",sep=\" \")"
   ]
  },
  {
   "cell_type": "code",
   "execution_count": 59,
   "id": "d2301a45",
   "metadata": {},
   "outputs": [
    {
     "name": "stdout",
     "output_type": "stream",
     "text": [
      "Input mass (in kg): 200\n",
      "Input mass (in m): 2\n",
      "the body mass index (BMI) is  50.0\n"
     ]
    }
   ],
   "source": [
    "#22\n",
    "m = eval(input(\"Input mass (in kg): \"))\n",
    "h = eval(input(\"Input mass (in m): \"))\n",
    "bmi = (m/(h**2))\n",
    "print(\"the body mass index (BMI) is \",bmi)"
   ]
  },
  {
   "cell_type": "code",
   "execution_count": 89,
   "id": "111f35d5",
   "metadata": {},
   "outputs": [
    {
     "name": "stdout",
     "output_type": "stream",
     "text": [
      "enter the first coordinate: 10,20\n",
      "enter the first coordinate: 20,30\n",
      "midpoint of line (10,20) and (20,30) is (15.0,25.0)\n"
     ]
    }
   ],
   "source": [
    "#23\n",
    "import math\n",
    "x1,y1 = input(\"enter the first coordinate: \").split(\",\")\n",
    "x11=(eval(x1))\n",
    "y11=(eval(y1))\n",
    "x2,y2 = input(\"enter the first coordinate: \").split(\",\")\n",
    "x22=(eval(x2))\n",
    "y22=(eval(y2))\n",
    "mpx = (x11+x22)/2 \n",
    "mpy = (y11+y22)/2\n",
    "print(f\"midpoint of line ({x11},{y11}) and ({x22},{y22}) is ({mpx},{mpy})\")\n"
   ]
  },
  {
   "cell_type": "code",
   "execution_count": 93,
   "id": "4cd51a1f",
   "metadata": {},
   "outputs": [
    {
     "name": "stdout",
     "output_type": "stream",
     "text": [
      "[2002, 2009, 2016, 2023, 2037, 2044, 2051, 2058, 2072, 2079, 2086, 2093, 2107, 2114, 2121, 2128, 2142, 2149, 2156, 2163, 2177, 2184, 2191, 2198, 2212, 2219, 2226, 2233, 2247, 2254, 2261, 2268, 2282, 2289, 2296, 2303, 2317, 2324, 2331, 2338, 2352, 2359, 2366, 2373, 2387, 2394, 2401, 2408, 2422, 2429, 2436, 2443, 2457, 2464, 2471, 2478, 2492, 2499, 2506, 2513, 2527, 2534, 2541, 2548, 2562, 2569, 2576, 2583, 2597, 2604, 2611, 2618, 2632, 2639, 2646, 2653, 2667, 2674, 2681, 2688, 2702, 2709, 2716, 2723, 2737, 2744, 2751, 2758, 2772, 2779, 2786, 2793, 2807, 2814, 2821, 2828, 2842, 2849, 2856, 2863, 2877, 2884, 2891, 2898, 2912, 2919, 2926, 2933, 2947, 2954, 2961, 2968, 2982, 2989, 2996, 3003, 3017, 3024, 3031, 3038, 3052, 3059, 3066, 3073, 3087, 3094, 3101, 3108, 3122, 3129, 3136, 3143, 3157, 3164, 3171, 3178, 3192, 3199]\n"
     ]
    }
   ],
   "source": [
    "#24\n",
    "list1 = []\n",
    "for i in range(2000,3200):\n",
    "    if (i/7)%1==0 and (i/5)%1!=0:\n",
    "        list1.append(i)\n",
    "print(list1)\n",
    "    "
   ]
  },
  {
   "cell_type": "code",
   "execution_count": null,
   "id": "f2241dcb",
   "metadata": {},
   "outputs": [],
   "source": []
  }
 ],
 "metadata": {
  "kernelspec": {
   "display_name": "Python 3 (ipykernel)",
   "language": "python",
   "name": "python3"
  },
  "language_info": {
   "codemirror_mode": {
    "name": "ipython",
    "version": 3
   },
   "file_extension": ".py",
   "mimetype": "text/x-python",
   "name": "python",
   "nbconvert_exporter": "python",
   "pygments_lexer": "ipython3",
   "version": "3.9.12"
  }
 },
 "nbformat": 4,
 "nbformat_minor": 5
}
